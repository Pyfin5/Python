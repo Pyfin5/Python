{
 "cells": [
  {
   "cell_type": "code",
   "execution_count": null,
   "id": "bdaea768",
   "metadata": {},
   "outputs": [],
   "source": [
    "import pandas as pd\n",
    "import numpy as np\n",
    "import pandas_datareader as wb\n",
    "import investpy as ip\n",
    "import datetime\n",
    "import investpy as ip\n",
    "import matplotlib.pyplot as plt"
   ]
  },
  {
   "cell_type": "code",
   "execution_count": null,
   "id": "f24f593e",
   "metadata": {},
   "outputs": [],
   "source": [
    "Index_all = pd.DataFrame()"
   ]
  },
  {
   "cell_type": "code",
   "execution_count": null,
   "id": "fc9a0687",
   "metadata": {},
   "outputs": [],
   "source": [
    "# iShares S&P/TSX 60\n",
    "\n",
    "\n",
    "SP60_D = ip.etfs.get_etf_historical_data(etf='iShares S&P/TSX 60', country='canada',\n",
    "        from_date='01/06/2015', to_date='01/06/2021')['Close']\n",
    "\n",
    "SP60_C = ['Close']\n",
    "\n",
    "SP60 = pd.DataFrame(SP60_D, columns = SP60_C)\n",
    "SP60_1 = SP60.rename(columns={'Close':'SP60 Close'})"
   ]
  },
  {
   "cell_type": "code",
   "execution_count": null,
   "id": "97a14a00",
   "metadata": {},
   "outputs": [],
   "source": [
    "SP60_1.tail()"
   ]
  },
  {
   "cell_type": "code",
   "execution_count": null,
   "id": "3e16a8a4",
   "metadata": {},
   "outputs": [],
   "source": [
    "# iShares Core S&P 500 (CAD Hedged)\n",
    "\n",
    "ISP_D = ip.etfs.get_etf_historical_data(etf='iShares Core S&P 500 (CAD Hedged)', country='canada',\n",
    "        from_date='01/06/2015', to_date='01/06/2021')['Close']\n",
    "\n",
    "ISP_C = ['Close']\n",
    "\n",
    "ISP = pd.DataFrame(ISP_D, columns = ISP_C)\n",
    "ISP_1 = ISP.rename(columns={'Close':'ISP Close'})"
   ]
  },
  {
   "cell_type": "code",
   "execution_count": null,
   "id": "87f29a93",
   "metadata": {
    "scrolled": true
   },
   "outputs": [],
   "source": [
    "ISP.head()"
   ]
  },
  {
   "cell_type": "code",
   "execution_count": null,
   "id": "1cb8cdb2",
   "metadata": {},
   "outputs": [],
   "source": [
    "# iShares MSCI Europe IMI, ISEU\n",
    "\n",
    "ISEU_D = ip.etfs.get_etf_historical_data(etf='iShares MSCI Europe IMI', country='canada',\n",
    "        from_date='01/06/2015', to_date='01/06/2021')['Close']\n",
    "\n",
    "ISEU_C = ['Close']\n",
    "\n",
    "ISEU = pd.DataFrame(ISEU_D, columns = ISEU_C )\n",
    "ISEU_1 = ISEU.rename(columns={'Close':'ISEU Close'})"
   ]
  },
  {
   "cell_type": "code",
   "execution_count": null,
   "id": "954919be",
   "metadata": {},
   "outputs": [],
   "source": [
    "ISEU_1.head()"
   ]
  },
  {
   "cell_type": "code",
   "execution_count": null,
   "id": "1c55d05d",
   "metadata": {},
   "outputs": [],
   "source": [
    "# iShares India\n",
    "\n",
    "ISI_D = ip.etfs.get_etf_historical_data(etf='iShares India', country='canada',\n",
    "        from_date='01/06/2015', to_date='01/06/2021')['Close']\n",
    "\n",
    "ISI_C = ['Close']\n",
    "\n",
    "ISI = pd.DataFrame(ISI_D, columns = ISI_C )\n",
    "ISI_1 = ISI.rename(columns={'Close':'ISI Close'})"
   ]
  },
  {
   "cell_type": "code",
   "execution_count": null,
   "id": "cf4e6b0a",
   "metadata": {},
   "outputs": [],
   "source": [
    "ISI_1.head()"
   ]
  },
  {
   "cell_type": "code",
   "execution_count": null,
   "id": "907f0b74",
   "metadata": {},
   "outputs": [],
   "source": [
    "# iShares China\n",
    "\n",
    "ISC_D = ip.etfs.get_etf_historical_data(etf='iShares China', country='canada',\n",
    "        from_date='01/06/2015', to_date='01/06/2021')['Close']\n",
    "\n",
    "ISC_C = ['Close']\n",
    "\n",
    "ISC = pd.DataFrame(ISC_D, columns = ISC_C )\n",
    "\n",
    "ISC_1 = ISC.rename(columns={'Close':'ISC Close'})"
   ]
  },
  {
   "cell_type": "code",
   "execution_count": null,
   "id": "ab30084d",
   "metadata": {},
   "outputs": [],
   "source": [
    "ISC_1.head()"
   ]
  },
  {
   "cell_type": "code",
   "execution_count": null,
   "id": "b1b17d40",
   "metadata": {
    "scrolled": true
   },
   "outputs": [],
   "source": [
    "# BMO MSCI Emerging Markets\n",
    "\n",
    "BMEM_D = ip.etfs.get_etf_historical_data(etf='BMO MSCI Emerging Markets', country='canada',\n",
    "                                         from_date='01/06/2015', to_date='01/06/2021')['Close']\n",
    "\n",
    "BMEM_C = ['Close']\n",
    "\n",
    "BMEM = pd.DataFrame(BMEM_D, columns = BMEM_C )\n",
    "\n",
    "BMEM_1 = BMEM.rename(columns={'Close':'BMEM Close'})"
   ]
  },
  {
   "cell_type": "code",
   "execution_count": null,
   "id": "b2099f09",
   "metadata": {
    "scrolled": true
   },
   "outputs": [],
   "source": [
    "BMEM_1.head()"
   ]
  },
  {
   "cell_type": "code",
   "execution_count": null,
   "id": "190da473",
   "metadata": {},
   "outputs": [],
   "source": [
    "ETF_D = pd.DataFrame()\n",
    "ETF_D = pd.concat([BMEM_1,ISC_1,ISI_1,ISEU_1,ISP_1,SP60_1], axis=1)\n",
    "                   "
   ]
  },
  {
   "cell_type": "code",
   "execution_count": null,
   "id": "c8ee1854",
   "metadata": {
    "scrolled": true
   },
   "outputs": [],
   "source": [
    "ETF_D.head()"
   ]
  },
  {
   "cell_type": "code",
   "execution_count": null,
   "id": "be81a239",
   "metadata": {},
   "outputs": [],
   "source": [
    "ETF_D.tail()"
   ]
  },
  {
   "cell_type": "code",
   "execution_count": null,
   "id": "7297e642",
   "metadata": {},
   "outputs": [],
   "source": [
    "ETF_D.isnull().sum(axis = 0)"
   ]
  },
  {
   "cell_type": "code",
   "execution_count": null,
   "id": "d3a1b06e",
   "metadata": {},
   "outputs": [],
   "source": [
    "# interpolate missing data\n",
    "ETF_D_1 = ETF_D.reindex(pd.date_range(\"2015-06-01\", \"2021-06-01\"), fill_value=\"NaN\")\n",
    "ETF_D_2 = ETF_D_1.astype(float)\n",
    "ETF_D_3 = ETF_D_2.interpolate(method='linear', axis=0).ffill().bfill()"
   ]
  },
  {
   "cell_type": "code",
   "execution_count": null,
   "id": "4f3f1bc3",
   "metadata": {},
   "outputs": [],
   "source": [
    "ETF_D_3.shape"
   ]
  },
  {
   "cell_type": "code",
   "execution_count": null,
   "id": "d9b5463c",
   "metadata": {},
   "outputs": [],
   "source": [
    "ETF_D_3.tail()"
   ]
  },
  {
   "cell_type": "code",
   "execution_count": null,
   "id": "db21dd3e",
   "metadata": {},
   "outputs": [],
   "source": [
    "ETF_D_3.head()"
   ]
  },
  {
   "cell_type": "code",
   "execution_count": null,
   "id": "007af988",
   "metadata": {},
   "outputs": [],
   "source": [
    "ETF_D_3.isnull().sum(axis = 0)"
   ]
  },
  {
   "cell_type": "code",
   "execution_count": null,
   "id": "1cc295f0",
   "metadata": {},
   "outputs": [],
   "source": [
    "ETF_D_3.plot(figsize=(15,6))\n",
    "plt.show"
   ]
  },
  {
   "cell_type": "code",
   "execution_count": null,
   "id": "c1e4245f",
   "metadata": {
    "scrolled": false
   },
   "outputs": [],
   "source": [
    "# interpolate missing data\n",
    "ETF_D.reindex(pd.date_range(\"2015-06-01\", \"2021-06-01\"), fill_value=\"NaN\")\n",
    "ETF_D.astype(float)\n",
    "ETF_D.interpolate(method='linear', axis=0).ffill().bfill()\n",
    "\n",
    "ETF_D.index.name = 'Date'\n",
    "\n",
    "ETF_D_Plot = ETF_D.index.name = 'Date'\n",
    "\n",
    "ETF_D.tail()\n",
    "\n",
    "ETF_D.plot(figsize=(10,6))"
   ]
  },
  {
   "cell_type": "code",
   "execution_count": null,
   "id": "517a160c",
   "metadata": {},
   "outputs": [],
   "source": [
    "ETF_Log = np.log(ETF_D_3 / ETF_D_3.shift(1))"
   ]
  },
  {
   "cell_type": "code",
   "execution_count": null,
   "id": "013d409e",
   "metadata": {},
   "outputs": [],
   "source": [
    "print(ETF_Log)"
   ]
  },
  {
   "cell_type": "code",
   "execution_count": null,
   "id": "bd98855e",
   "metadata": {},
   "outputs": [],
   "source": [
    "ETF_Log.mean() * 250"
   ]
  },
  {
   "cell_type": "code",
   "execution_count": null,
   "id": "4cd429f6",
   "metadata": {
    "scrolled": true
   },
   "outputs": [],
   "source": [
    "ETF_Log.cov() "
   ]
  },
  {
   "cell_type": "code",
   "execution_count": null,
   "id": "a7a6e6f0",
   "metadata": {
    "scrolled": false
   },
   "outputs": [],
   "source": [
    "ETF_Log.corr() "
   ]
  },
  {
   "cell_type": "code",
   "execution_count": null,
   "id": "7754e0c2",
   "metadata": {},
   "outputs": [],
   "source": [
    "cov_matrix = ETF_D_3.pct_change().apply(lambda x: np.log(1+x)).cov()\n",
    "cov_matrix"
   ]
  },
  {
   "cell_type": "code",
   "execution_count": null,
   "id": "632b1ec4",
   "metadata": {},
   "outputs": [],
   "source": [
    "Num_assets = len(ETF_Log.mean())\n",
    "Num_assets"
   ]
  },
  {
   "cell_type": "code",
   "execution_count": null,
   "id": "03051c5f",
   "metadata": {},
   "outputs": [],
   "source": [
    "ETF_weights = np.random.random(Num_assets)\n",
    "ETF_weights /= np.sum(ETF_weights)\n",
    "ETF_weights"
   ]
  },
  {
   "cell_type": "code",
   "execution_count": null,
   "id": "d8920b81",
   "metadata": {
    "scrolled": true
   },
   "outputs": [],
   "source": [
    "ETF_weights.sum()"
   ]
  },
  {
   "cell_type": "code",
   "execution_count": null,
   "id": "7d4610c5",
   "metadata": {},
   "outputs": [],
   "source": [
    "# Calculate Risk Free Rate \n",
    "\n",
    "rf = 0.01"
   ]
  },
  {
   "cell_type": "code",
   "execution_count": null,
   "id": "94c87c68",
   "metadata": {},
   "outputs": [],
   "source": [
    "#Calculate portfolio return\n",
    "\n",
    "np.sum(ETF_weights * ETF_Log.mean() * 250)"
   ]
  },
  {
   "cell_type": "code",
   "execution_count": null,
   "id": "071f7ef8",
   "metadata": {},
   "outputs": [],
   "source": [
    "#Calcualte portfolio variance \n",
    "\n",
    "np.dot(ETF_weights.T, np.dot((ETF_Log.cov() * 250), ETF_weights))"
   ]
  },
  {
   "cell_type": "code",
   "execution_count": null,
   "id": "7cbcf7e0",
   "metadata": {},
   "outputs": [],
   "source": [
    "#Calcualte portfolio Std. dev \n",
    "\n",
    "np.sqrt(np.dot(ETF_weights.T, np.dot((ETF_Log.cov() * 250), ETF_weights)))"
   ]
  },
  {
   "cell_type": "code",
   "execution_count": null,
   "id": "dd7645f3",
   "metadata": {},
   "outputs": [],
   "source": [
    "# Run simulations for various combination of ETF weights\n",
    "\n",
    "Portfolio_Returns = []\n",
    "Portfolio_Vol = []\n",
    "Portfolio_weights = []\n",
    "Sharpe_Ratio_Port = []\n",
    "\n",
    "for x in range(4000):\n",
    "    ETF_weights = np.random.random(Num_assets)\n",
    "    ETF_weights /= np.sum(ETF_weights)\n",
    "    Portfolio_weights.append(ETF_weights)\n",
    "    Returns_1 = np.sum(ETF_weights * ETF_Log.mean() * 250)\n",
    "    Portfolio_Returns.append(Returns_1)\n",
    "    Volatility_1 = np.sqrt(np.dot(ETF_weights.T, np.dot((ETF_Log.cov() * 250), ETF_weights)))\n",
    "    Portfolio_Vol.append(Volatility_1)\n",
    "    Sharpe_Ratio = (((Returns_1)-rf)/Volatility_1)\n",
    "    Sharpe_Ratio_Port.append(Sharpe_Ratio)\n",
    "    \n",
    "P_Returns_Array = np.array(Portfolio_Returns)\n",
    "P_Vol_Array = np.array(Portfolio_Vol)\n",
    "P_Weights_Array = np.array(Portfolio_weights)\n",
    "P_Sharpe_Ratio_Array = np.array(Sharpe_Ratio_Port)\n",
    "\n",
    "Efficient_Port = pd.DataFrame({'Return' : P_Returns_Array, 'Volatility' : P_Vol_Array, 'Sharpe Ratio' : P_Sharpe_Ratio_Array})\n"
   ]
  },
  {
   "cell_type": "code",
   "execution_count": null,
   "id": "90b9fe5b",
   "metadata": {},
   "outputs": [],
   "source": [
    "Portfolio_Metrics = [P_Returns_Array, P_Vol_Array, P_Sharpe_Ratio_Array,Portfolio_weights]\n",
    "Efficient_Port_1 = pd.DataFrame(Portfolio_Metrics)\n",
    "Efficient_Port_1 = Efficient_Port_1.T\n",
    "Efficient_Port_1.columns = ['Port Returns','Port Risk','Sharpe Ratio','Portfolio Weights']\n",
    "for col in ['Port Returns', 'Port Risk', 'Sharpe Ratio']:\n",
    "    Efficient_Port_1[col] = Efficient_Port_1[col].astype(float)\n",
    "    \n",
    "print(Efficient_Port_1)\n"
   ]
  },
  {
   "cell_type": "code",
   "execution_count": null,
   "id": "650ea57d",
   "metadata": {
    "scrolled": false
   },
   "outputs": [],
   "source": [
    "min_vol_port = Efficient_Port.iloc[Efficient_Port['Volatility'].idxmin()]"
   ]
  },
  {
   "cell_type": "code",
   "execution_count": null,
   "id": "a16e0b11",
   "metadata": {},
   "outputs": [],
   "source": [
    "# Defining the risk free rate \n",
    "rf = 0.01"
   ]
  },
  {
   "cell_type": "code",
   "execution_count": null,
   "id": "d922eaaf",
   "metadata": {},
   "outputs": [],
   "source": [
    "optimal_risky_port = Efficient_Port.iloc[((Efficient_Port['Return']-rf)/Efficient_Port['Volatility']).idxmax()]"
   ]
  },
  {
   "cell_type": "code",
   "execution_count": null,
   "id": "3907497e",
   "metadata": {
    "scrolled": true
   },
   "outputs": [],
   "source": [
    "#Plot maximum sharpe ratio portfolio \n",
    "plt.subplots(figsize=(10, 10))\n",
    "plt.scatter(Efficient_Port['Volatility'], Efficient_Port['Return'],marker='o', s=10, alpha=0.3)\n",
    "plt.scatter(min_vol_port[1], min_vol_port[0], color='r', marker='1', s=500)\n",
    "plt.xlabel('Expected Volatility')\n",
    "plt.ylabel('Expected Return')\n",
    "plt.scatter(optimal_risky_port[1], optimal_risky_port[0], color='g', marker='2', s=500)"
   ]
  },
  {
   "cell_type": "code",
   "execution_count": null,
   "id": "4ec8d7fd",
   "metadata": {},
   "outputs": [],
   "source": [
    "# Calculate minimum volatility portfolio\n",
    "\n",
    "min_vol_port_1 = Efficient_Port_1.iloc[Efficient_Port['Volatility'].idxmin()]\n",
    "print(min_vol_port_1)"
   ]
  },
  {
   "cell_type": "code",
   "execution_count": null,
   "id": "bf6b4dd2",
   "metadata": {},
   "outputs": [],
   "source": [
    "#Calculate portfolio with highest sharpe ratio\n",
    "\n",
    "optimal_risky_port_1 = Efficient_Port_1.iloc[((Efficient_Port['Return']-rf)/Efficient_Port['Volatility']).idxmax()]\n",
    "print(optimal_risky_port_1)"
   ]
  },
  {
   "cell_type": "code",
   "execution_count": null,
   "id": "4acea1cb",
   "metadata": {
    "scrolled": true
   },
   "outputs": [],
   "source": [
    "!pip install plotly"
   ]
  },
  {
   "cell_type": "code",
   "execution_count": null,
   "id": "314b53b6",
   "metadata": {},
   "outputs": [],
   "source": [
    "import plotly.express as px"
   ]
  },
  {
   "cell_type": "code",
   "execution_count": null,
   "id": "152cf6ad",
   "metadata": {},
   "outputs": [],
   "source": [
    "names=[\"BMEM Close\",\"ISC Close\",\"ISI Close\",\"ISEU Close\",\"ISP Close\",\"SP60 Close\"]\n",
    "weights=pd.DataFrame(optimal_risky_port_1[\"Portfolio Weights\"])\n",
    "weights[\"names\"]=names\n",
    "\n",
    "fig = px.pie(weights, values=0,  names='names',title='Portfolio Weights')"
   ]
  },
  {
   "cell_type": "code",
   "execution_count": null,
   "id": "55663c74",
   "metadata": {},
   "outputs": [],
   "source": [
    "fig.show()"
   ]
  }
 ],
 "metadata": {
  "kernelspec": {
   "display_name": "Python 3",
   "language": "python",
   "name": "python3"
  },
  "language_info": {
   "codemirror_mode": {
    "name": "ipython",
    "version": 3
   },
   "file_extension": ".py",
   "mimetype": "text/x-python",
   "name": "python",
   "nbconvert_exporter": "python",
   "pygments_lexer": "ipython3",
   "version": "3.8.8"
  }
 },
 "nbformat": 4,
 "nbformat_minor": 5
}
